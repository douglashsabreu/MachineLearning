{
 "cells": [
  {
   "cell_type": "code",
   "execution_count": 1,
   "metadata": {},
   "outputs": [],
   "source": [
    "import numpy as np\n",
    "import pandas as pd\n",
    "import matplotlib.pyplot as plt"
   ]
  },
  {
   "cell_type": "code",
   "execution_count": 2,
   "metadata": {},
   "outputs": [
    {
     "data": {
      "text/html": [
       "<div>\n",
       "<style scoped>\n",
       "    .dataframe tbody tr th:only-of-type {\n",
       "        vertical-align: middle;\n",
       "    }\n",
       "\n",
       "    .dataframe tbody tr th {\n",
       "        vertical-align: top;\n",
       "    }\n",
       "\n",
       "    .dataframe thead th {\n",
       "        text-align: right;\n",
       "    }\n",
       "</style>\n",
       "<table border=\"1\" class=\"dataframe\">\n",
       "  <thead>\n",
       "    <tr style=\"text-align: right;\">\n",
       "      <th></th>\n",
       "      <th>Year</th>\n",
       "      <th>Jan</th>\n",
       "      <th>Feb</th>\n",
       "      <th>Mar</th>\n",
       "      <th>Apl</th>\n",
       "      <th>May</th>\n",
       "      <th>Jun</th>\n",
       "      <th>Jul</th>\n",
       "      <th>Aug</th>\n",
       "      <th>Sep</th>\n",
       "      <th>Oct</th>\n",
       "      <th>Nov</th>\n",
       "      <th>Dec</th>\n",
       "    </tr>\n",
       "  </thead>\n",
       "  <tbody>\n",
       "    <tr>\n",
       "      <th>0</th>\n",
       "      <td>1749</td>\n",
       "      <td>58.0</td>\n",
       "      <td>62.6</td>\n",
       "      <td>70.0</td>\n",
       "      <td>55.7</td>\n",
       "      <td>85.0</td>\n",
       "      <td>83.5</td>\n",
       "      <td>94.8</td>\n",
       "      <td>66.3</td>\n",
       "      <td>75.9</td>\n",
       "      <td>75.5</td>\n",
       "      <td>158.6</td>\n",
       "      <td>85.2</td>\n",
       "    </tr>\n",
       "    <tr>\n",
       "      <th>1</th>\n",
       "      <td>1750</td>\n",
       "      <td>73.3</td>\n",
       "      <td>75.9</td>\n",
       "      <td>89.2</td>\n",
       "      <td>88.3</td>\n",
       "      <td>90.0</td>\n",
       "      <td>100.0</td>\n",
       "      <td>85.4</td>\n",
       "      <td>103.0</td>\n",
       "      <td>91.2</td>\n",
       "      <td>65.7</td>\n",
       "      <td>63.3</td>\n",
       "      <td>75.4</td>\n",
       "    </tr>\n",
       "    <tr>\n",
       "      <th>2</th>\n",
       "      <td>1751</td>\n",
       "      <td>70.0</td>\n",
       "      <td>43.5</td>\n",
       "      <td>45.3</td>\n",
       "      <td>56.4</td>\n",
       "      <td>60.7</td>\n",
       "      <td>50.7</td>\n",
       "      <td>66.3</td>\n",
       "      <td>59.8</td>\n",
       "      <td>23.5</td>\n",
       "      <td>23.2</td>\n",
       "      <td>28.5</td>\n",
       "      <td>44.0</td>\n",
       "    </tr>\n",
       "    <tr>\n",
       "      <th>3</th>\n",
       "      <td>1752</td>\n",
       "      <td>35.0</td>\n",
       "      <td>50.0</td>\n",
       "      <td>71.0</td>\n",
       "      <td>59.3</td>\n",
       "      <td>59.7</td>\n",
       "      <td>39.6</td>\n",
       "      <td>78.4</td>\n",
       "      <td>29.3</td>\n",
       "      <td>27.1</td>\n",
       "      <td>46.6</td>\n",
       "      <td>37.6</td>\n",
       "      <td>40.0</td>\n",
       "    </tr>\n",
       "    <tr>\n",
       "      <th>4</th>\n",
       "      <td>1753</td>\n",
       "      <td>44.0</td>\n",
       "      <td>32.0</td>\n",
       "      <td>45.7</td>\n",
       "      <td>38.0</td>\n",
       "      <td>36.0</td>\n",
       "      <td>31.7</td>\n",
       "      <td>22.0</td>\n",
       "      <td>39.0</td>\n",
       "      <td>28.0</td>\n",
       "      <td>25.0</td>\n",
       "      <td>20.0</td>\n",
       "      <td>6.7</td>\n",
       "    </tr>\n",
       "  </tbody>\n",
       "</table>\n",
       "</div>"
      ],
      "text/plain": [
       "   Year   Jan   Feb   Mar   Apl   May    Jun   Jul    Aug   Sep   Oct    Nov  \\\n",
       "0  1749  58.0  62.6  70.0  55.7  85.0   83.5  94.8   66.3  75.9  75.5  158.6   \n",
       "1  1750  73.3  75.9  89.2  88.3  90.0  100.0  85.4  103.0  91.2  65.7   63.3   \n",
       "2  1751  70.0  43.5  45.3  56.4  60.7   50.7  66.3   59.8  23.5  23.2   28.5   \n",
       "3  1752  35.0  50.0  71.0  59.3  59.7   39.6  78.4   29.3  27.1  46.6   37.6   \n",
       "4  1753  44.0  32.0  45.7  38.0  36.0   31.7  22.0   39.0  28.0  25.0   20.0   \n",
       "\n",
       "    Dec  \n",
       "0  85.2  \n",
       "1  75.4  \n",
       "2  44.0  \n",
       "3  40.0  \n",
       "4   6.7  "
      ]
     },
     "execution_count": 2,
     "metadata": {},
     "output_type": "execute_result"
    }
   ],
   "source": [
    "df = pd.read_csv('../data/sunspot.txt', delimiter=r\"\\s+\", names=['Year','Jan', 'Feb', 'Mar', 'Apl', 'May', 'Jun', 'Jul', 'Aug', 'Sep', 'Oct', 'Nov', 'Dec'])\n",
    "df.head()"
   ]
  },
  {
   "cell_type": "code",
   "execution_count": 3,
   "metadata": {},
   "outputs": [
    {
     "data": {
      "text/html": [
       "<div>\n",
       "<style scoped>\n",
       "    .dataframe tbody tr th:only-of-type {\n",
       "        vertical-align: middle;\n",
       "    }\n",
       "\n",
       "    .dataframe tbody tr th {\n",
       "        vertical-align: top;\n",
       "    }\n",
       "\n",
       "    .dataframe thead th {\n",
       "        text-align: right;\n",
       "    }\n",
       "</style>\n",
       "<table border=\"1\" class=\"dataframe\">\n",
       "  <thead>\n",
       "    <tr style=\"text-align: right;\">\n",
       "      <th></th>\n",
       "      <th>Year</th>\n",
       "      <th>Jan</th>\n",
       "      <th>Feb</th>\n",
       "      <th>Mar</th>\n",
       "      <th>Apl</th>\n",
       "      <th>May</th>\n",
       "      <th>Jun</th>\n",
       "      <th>Jul</th>\n",
       "      <th>Aug</th>\n",
       "      <th>Sep</th>\n",
       "      <th>Oct</th>\n",
       "      <th>Nov</th>\n",
       "      <th>Dec</th>\n",
       "    </tr>\n",
       "  </thead>\n",
       "  <tbody>\n",
       "    <tr>\n",
       "      <th>count</th>\n",
       "      <td>266.000000</td>\n",
       "      <td>266.000000</td>\n",
       "      <td>266.000000</td>\n",
       "      <td>266.000000</td>\n",
       "      <td>266.000000</td>\n",
       "      <td>266.000000</td>\n",
       "      <td>266.000000</td>\n",
       "      <td>266.000000</td>\n",
       "      <td>266.000000</td>\n",
       "      <td>266.000000</td>\n",
       "      <td>266.000000</td>\n",
       "      <td>266.000000</td>\n",
       "      <td>266.000000</td>\n",
       "    </tr>\n",
       "    <tr>\n",
       "      <th>mean</th>\n",
       "      <td>1881.500000</td>\n",
       "      <td>49.941353</td>\n",
       "      <td>51.779323</td>\n",
       "      <td>50.982707</td>\n",
       "      <td>51.674060</td>\n",
       "      <td>52.930827</td>\n",
       "      <td>52.452256</td>\n",
       "      <td>52.541729</td>\n",
       "      <td>53.181203</td>\n",
       "      <td>52.692481</td>\n",
       "      <td>52.910150</td>\n",
       "      <td>51.675564</td>\n",
       "      <td>52.399624</td>\n",
       "    </tr>\n",
       "    <tr>\n",
       "      <th>std</th>\n",
       "      <td>76.931788</td>\n",
       "      <td>43.705655</td>\n",
       "      <td>43.078891</td>\n",
       "      <td>41.188720</td>\n",
       "      <td>42.896057</td>\n",
       "      <td>44.695856</td>\n",
       "      <td>43.681790</td>\n",
       "      <td>44.227086</td>\n",
       "      <td>45.999958</td>\n",
       "      <td>46.154334</td>\n",
       "      <td>44.451869</td>\n",
       "      <td>43.590282</td>\n",
       "      <td>45.707953</td>\n",
       "    </tr>\n",
       "    <tr>\n",
       "      <th>min</th>\n",
       "      <td>1749.000000</td>\n",
       "      <td>0.000000</td>\n",
       "      <td>0.000000</td>\n",
       "      <td>0.000000</td>\n",
       "      <td>0.000000</td>\n",
       "      <td>0.000000</td>\n",
       "      <td>0.000000</td>\n",
       "      <td>0.000000</td>\n",
       "      <td>0.000000</td>\n",
       "      <td>0.000000</td>\n",
       "      <td>0.000000</td>\n",
       "      <td>0.000000</td>\n",
       "      <td>0.000000</td>\n",
       "    </tr>\n",
       "    <tr>\n",
       "      <th>25%</th>\n",
       "      <td>1815.250000</td>\n",
       "      <td>14.775000</td>\n",
       "      <td>15.750000</td>\n",
       "      <td>15.150000</td>\n",
       "      <td>16.275000</td>\n",
       "      <td>18.850000</td>\n",
       "      <td>15.450000</td>\n",
       "      <td>16.425000</td>\n",
       "      <td>16.475000</td>\n",
       "      <td>14.525000</td>\n",
       "      <td>16.950000</td>\n",
       "      <td>15.900000</td>\n",
       "      <td>17.075000</td>\n",
       "    </tr>\n",
       "    <tr>\n",
       "      <th>50%</th>\n",
       "      <td>1881.500000</td>\n",
       "      <td>40.650000</td>\n",
       "      <td>43.550000</td>\n",
       "      <td>45.850000</td>\n",
       "      <td>41.000000</td>\n",
       "      <td>41.950000</td>\n",
       "      <td>41.150000</td>\n",
       "      <td>42.200000</td>\n",
       "      <td>40.850000</td>\n",
       "      <td>42.550000</td>\n",
       "      <td>46.300000</td>\n",
       "      <td>40.700000</td>\n",
       "      <td>41.200000</td>\n",
       "    </tr>\n",
       "    <tr>\n",
       "      <th>75%</th>\n",
       "      <td>1947.750000</td>\n",
       "      <td>71.350000</td>\n",
       "      <td>75.825000</td>\n",
       "      <td>73.925000</td>\n",
       "      <td>75.700000</td>\n",
       "      <td>76.925000</td>\n",
       "      <td>81.000000</td>\n",
       "      <td>77.825000</td>\n",
       "      <td>76.200000</td>\n",
       "      <td>77.750000</td>\n",
       "      <td>75.500000</td>\n",
       "      <td>76.825000</td>\n",
       "      <td>77.125000</td>\n",
       "    </tr>\n",
       "    <tr>\n",
       "      <th>max</th>\n",
       "      <td>2014.000000</td>\n",
       "      <td>217.400000</td>\n",
       "      <td>182.300000</td>\n",
       "      <td>190.700000</td>\n",
       "      <td>196.000000</td>\n",
       "      <td>238.900000</td>\n",
       "      <td>200.700000</td>\n",
       "      <td>191.400000</td>\n",
       "      <td>200.300000</td>\n",
       "      <td>235.800000</td>\n",
       "      <td>253.800000</td>\n",
       "      <td>210.900000</td>\n",
       "      <td>239.400000</td>\n",
       "    </tr>\n",
       "  </tbody>\n",
       "</table>\n",
       "</div>"
      ],
      "text/plain": [
       "              Year         Jan         Feb         Mar         Apl  \\\n",
       "count   266.000000  266.000000  266.000000  266.000000  266.000000   \n",
       "mean   1881.500000   49.941353   51.779323   50.982707   51.674060   \n",
       "std      76.931788   43.705655   43.078891   41.188720   42.896057   \n",
       "min    1749.000000    0.000000    0.000000    0.000000    0.000000   \n",
       "25%    1815.250000   14.775000   15.750000   15.150000   16.275000   \n",
       "50%    1881.500000   40.650000   43.550000   45.850000   41.000000   \n",
       "75%    1947.750000   71.350000   75.825000   73.925000   75.700000   \n",
       "max    2014.000000  217.400000  182.300000  190.700000  196.000000   \n",
       "\n",
       "              May         Jun         Jul         Aug         Sep         Oct  \\\n",
       "count  266.000000  266.000000  266.000000  266.000000  266.000000  266.000000   \n",
       "mean    52.930827   52.452256   52.541729   53.181203   52.692481   52.910150   \n",
       "std     44.695856   43.681790   44.227086   45.999958   46.154334   44.451869   \n",
       "min      0.000000    0.000000    0.000000    0.000000    0.000000    0.000000   \n",
       "25%     18.850000   15.450000   16.425000   16.475000   14.525000   16.950000   \n",
       "50%     41.950000   41.150000   42.200000   40.850000   42.550000   46.300000   \n",
       "75%     76.925000   81.000000   77.825000   76.200000   77.750000   75.500000   \n",
       "max    238.900000  200.700000  191.400000  200.300000  235.800000  253.800000   \n",
       "\n",
       "              Nov         Dec  \n",
       "count  266.000000  266.000000  \n",
       "mean    51.675564   52.399624  \n",
       "std     43.590282   45.707953  \n",
       "min      0.000000    0.000000  \n",
       "25%     15.900000   17.075000  \n",
       "50%     40.700000   41.200000  \n",
       "75%     76.825000   77.125000  \n",
       "max    210.900000  239.400000  "
      ]
     },
     "execution_count": 3,
     "metadata": {},
     "output_type": "execute_result"
    }
   ],
   "source": [
    "df.describe()"
   ]
  },
  {
   "cell_type": "code",
   "execution_count": 4,
   "metadata": {},
   "outputs": [],
   "source": [
    "matrix = df.values\n",
    "_df_matrix = []\n",
    "for row in matrix:\n",
    "    for i in range(1,13):\n",
    "        entry = [int(row[0]), row[i]]\n",
    "        _df_matrix.append(entry)\n",
    "\n",
    "_df_matrix = np.array(_df_matrix)\n",
    "\n",
    "_df = pd.DataFrame(_df_matrix)\n",
    "\n",
    "_df.columns = ['year', 'value']\n"
   ]
  },
  {
   "cell_type": "code",
   "execution_count": 5,
   "metadata": {},
   "outputs": [
    {
     "data": {
      "image/png": "[encoded data removed]",
      "text/plain": [
       "<Figure size 432x288 with 1 Axes>"
      ]
     },
     "metadata": {
      "needs_background": "light"
     },
     "output_type": "display_data"
    }
   ],
   "source": [
    "# Test set: 5 recent years [2010 ~ 2014]\n",
    "# 5 * 12 = 60\n",
    "# Last 60 rows\n",
    "\n",
    "years_test = _df_matrix[-60:,0]\n",
    "sunspots_values_test = _df_matrix[-60:,1]\n",
    "\n",
    "years_train = _df_matrix[:-60,0]\n",
    "sunspots_values_train = _df_matrix[:-60,1]\n",
    "\n",
    "plt.plot(years_train, sunspots_values_train)\n",
    "plt.plot(years_test, sunspots_values_test, 'g')\n",
    "plt.xlabel('year')\n",
    "plt.ylabel('sunspot value')\n",
    "plt.show()"
   ]
  },
  {
   "cell_type": "code",
   "execution_count": 6,
   "metadata": {},
   "outputs": [],
   "source": [
    "def generate_phi(data, K):\n",
    "    phi = []\n",
    "    for i in range(len(data) - K):\n",
    "        phi_x = np.insert(np.flip(data[i:i + K]), 0, 1)\n",
    "        phi.append(phi_x)\n",
    "    return np.array(phi)\n",
    "\n",
    "def generate_y(data, K):\n",
    "    y = []\n",
    "    for i in range(K, len(data)):\n",
    "        y.append(data[i])\n",
    "    return y"
   ]
  },
  {
   "cell_type": "code",
   "execution_count": 7,
   "metadata": {},
   "outputs": [],
   "source": [
    "phi = generate_phi(_df.values[:-60,1], 20)\n",
    "y = generate_y(_df.values[:-60,1], 20)\n",
    "w = np.dot(np.dot(np.linalg.inv(np.dot(phi.T, phi)), phi.T), y)"
   ]
  },
  {
   "cell_type": "code",
   "execution_count": 8,
   "metadata": {},
   "outputs": [
    {
     "data": {
      "image/png": "[encoded data removed]",
      "text/plain": [
       "<Figure size 432x288 with 1 Axes>"
      ]
     },
     "metadata": {
      "needs_background": "light"
     },
     "output_type": "display_data"
    }
   ],
   "source": [
    "plt.plot(years_train[20:], np.dot(phi,w) )\n",
    "plt.xlabel('year')\n",
    "plt.ylabel('sunspot value')\n",
    "plt.show()"
   ]
  },
  {
   "cell_type": "code",
   "execution_count": 9,
   "metadata": {},
   "outputs": [],
   "source": [
    "last_train_subset = sunspots_values_train[-20:]"
   ]
  },
  {
   "cell_type": "code",
   "execution_count": 10,
   "metadata": {},
   "outputs": [],
   "source": [
    "def predict_x_next(train_subset, w, X, K):\n",
    "    predicted_values = []\n",
    "    for i in range(X):\n",
    "        features = np.insert(np.flip(train_subset[i:]), 0, 1).T\n",
    "        predicted_value = np.dot(features, w)\n",
    "        train_subset = np.append(train_subset, predicted_value)\n",
    "        predicted_values.append(predicted_value)\n",
    "        \n",
    "    return predicted_values"
   ]
  },
  {
   "cell_type": "code",
   "execution_count": 11,
   "metadata": {},
   "outputs": [
    {
     "data": {
      "image/png": "[encoded data removed]",
      "text/plain": [
       "<Figure size 432x288 with 1 Axes>"
      ]
     },
     "metadata": {
      "needs_background": "light"
     },
     "output_type": "display_data"
    }
   ],
   "source": [
    "predictions = predict_x_next(last_train_subset, w, 60, 20)\n",
    "\n",
    "plt.plot(years_train[20:], np.dot(phi,w) )\n",
    "plt.plot(years_test, predictions, 'g' )\n",
    "plt.xlabel('year')\n",
    "plt.ylabel('sunspot value')\n",
    "plt.show()"
   ]
  },
  {
   "cell_type": "code",
   "execution_count": 12,
   "metadata": {},
   "outputs": [
    {
     "data": {
      "text/plain": [
       "[<matplotlib.lines.Line2D at 0x7f6c9d5c2e10>]"
      ]
     },
     "execution_count": 12,
     "metadata": {},
     "output_type": "execute_result"
    },
    {
     "data": {
      "image/png": "[encoded data removed]",
      "text/plain": [
       "<Figure size 432x288 with 1 Axes>"
      ]
     },
     "metadata": {
      "needs_background": "light"
     },
     "output_type": "display_data"
    }
   ],
   "source": [
    "plt.plot(years_test, sunspots_values_test, 'g')\n",
    "plt.plot(years_test, predictions, 'r')"
   ]
  },
  {
   "cell_type": "code",
   "execution_count": 13,
   "metadata": {},
   "outputs": [
    {
     "data": {
      "text/plain": [
       "[<matplotlib.lines.Line2D at 0x7f6c9b362c10>]"
      ]
     },
     "execution_count": 13,
     "metadata": {},
     "output_type": "execute_result"
    },
    {
     "data": {
      "image/png": "[encoded data removed]",
      "text/plain": [
       "<Figure size 432x288 with 1 Axes>"
      ]
     },
     "metadata": {
      "needs_background": "light"
     },
     "output_type": "display_data"
    }
   ],
   "source": [
    "plt.plot(years_train[20:], np.dot(phi,w) )\n",
    "plt.plot(years_test, sunspots_values_test, 'g')\n",
    "plt.plot(years_test, predictions, 'r')"
   ]
  },
  {
   "cell_type": "code",
   "execution_count": 14,
   "metadata": {},
   "outputs": [
    {
     "data": {
      "text/plain": [
       "8.900682833206169"
      ]
     },
     "execution_count": 14,
     "metadata": {},
     "output_type": "execute_result"
    }
   ],
   "source": [
    "rmse = lambda predictions, sunspots_values_test: np.sqrt(np.sum(predictions - sunspots_values_test)**2) * 1/len(predictions)\n",
    "\n",
    "rmse(predictions, sunspots_values_test)"
   ]
  }
 ],
 "metadata": {
  "kernelspec": {
   "display_name": "Python 3",
   "language": "python",
   "name": "python3"
  },
  "language_info": {
   "codemirror_mode": {
    "name": "ipython",
    "version": 2
   },
   "file_extension": ".py",
   "mimetype": "text/x-python",
   "name": "python",
   "nbconvert_exporter": "python",
   "pygments_lexer": "ipython2",
   "version": "2.7.13"
  }
 },
 "nbformat": 4,
 "nbformat_minor": 2
}
