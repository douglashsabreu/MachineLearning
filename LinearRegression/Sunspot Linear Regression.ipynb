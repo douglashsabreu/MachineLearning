{
 "cells": [
  {
   "cell_type": "code",
   "execution_count": 1,
   "metadata": {},
   "outputs": [],
   "source": [
    "import numpy as np\n",
    "import pandas as pd\n",
    "import matplotlib.pyplot as plt"
   ]
  },
  {
   "cell_type": "markdown",
   "metadata": {},
   "source": [
    "## Functions\n",
    "---\n",
    "#### generate_phi(data, K): Function to generate Phi with K features.\n",
    " K features = The sunspot values from the last K months. (Last month = position 0)\n",
    " \n",
    "#### generate_y(data, K)\n",
    " Get the labels from K to lenght of the data\n",
    " \n",
    "#### predict_x_next(train_subset, w, X, K):\n",
    "  Predict X next sunspot values\n",
    "  train_subset = last K values from the train set\n",
    "  w = Weights\n",
    "  X = number of predictions\n"
   ]
  },
  {
   "cell_type": "code",
   "execution_count": 2,
   "metadata": {},
   "outputs": [],
   "source": [
    "def generate_phi(data, K):\n",
    "    phi = []\n",
    "    for i in range(len(data) - K):\n",
    "        phi_x = np.insert(np.flip(data[i:i + K]), 0, 1)\n",
    "        phi.append(phi_x)\n",
    "    return np.array(phi)\n",
    "\n",
    "def generate_y(data, K):\n",
    "    y = []\n",
    "    for i in range(K, len(data)):\n",
    "        y.append(data[i])\n",
    "    return y"
   ]
  },
  {
   "cell_type": "code",
   "execution_count": 3,
   "metadata": {},
   "outputs": [],
   "source": [
    "def predict_x_next(train_subset, w, X, K):\n",
    "    predicted_values = []\n",
    "    for i in range(X):\n",
    "        features = np.insert(np.flip(train_subset[i:]), 0, 1).T\n",
    "        predicted_value = np.dot(features, w)\n",
    "        train_subset = np.append(train_subset, predicted_value)\n",
    "        predicted_values.append(predicted_value)\n",
    "        \n",
    "    return predicted_values"
   ]
  },
  {
   "cell_type": "code",
   "execution_count": 4,
   "metadata": {},
   "outputs": [],
   "source": [
    "def k_fold(x, y, k):\n",
    "    \n",
    "    if len(x) != len(y):\n",
    "        print('X and Y must have the same shape.')\n",
    "        print('X have shape of {} and Y have shape {}'.format(x.shape, y.shape))\n",
    "        return None\n",
    "    \n",
    "    elements_per_fold = len(x) / k\n",
    "    \n",
    "    x_folds, y_folds = [], []\n",
    "    for i in range(k):\n",
    "        x_fold = x[i * elements_per_fold: (i+1) * elements_per_fold]\n",
    "        y_fold = y[i * elements_per_fold: (i+1) * elements_per_fold]\n",
    "        x_folds.append(x_fold)\n",
    "        y_folds.append(y_fold)\n",
    "    \n",
    "    return x_folds, y_folds"
   ]
  },
  {
   "cell_type": "code",
   "execution_count": 5,
   "metadata": {},
   "outputs": [],
   "source": [
    "def compute_error_k_fold(x, y):\n",
    "    rmse = lambda predictions, sunspots_values_test: np.sqrt(np.sum(predictions - sunspots_values_test)**2) * 1/len(predictions)\n",
    "    error_hist, w_hist = [], []\n",
    "    folds_number = len(x)\n",
    "    \n",
    "    for validation_index in range(folds_number):\n",
    "        \n",
    "        x_train, y_train, x_validation, y_validation = [], [], [], []\n",
    "        \n",
    "        for train_index in range(folds_number):\n",
    "            \n",
    "            if validation_index == train_index:\n",
    "                x_validation = x[validation_index]\n",
    "                y_validation = y[validation_index]\n",
    "                continue\n",
    "            \n",
    "            try:\n",
    "                x_train = np.append(x_train, x[train_index], axis=0)\n",
    "            except:\n",
    "                x_train = np.array(x[train_index])\n",
    "            \n",
    "            y_train += y[train_index]\n",
    "        \n",
    "        x_train = np.array(x_train)\n",
    "        y_train = np.array(y_train)\n",
    "        \n",
    "        w = np.dot(np.dot(np.linalg.inv(np.dot(x_train.T, x_train)), x_train.T), y_train)\n",
    "        \n",
    "        predictions = np.dot(x_validation, w)\n",
    "        \n",
    "        error = rmse(predictions, y_validation)\n",
    "        error_hist.append(error)\n",
    "        w_hist.append(w)\n",
    "    \n",
    "    return error_hist, w_hist, np.min(error_hist), np.std(error_hist)\n",
    "        "
   ]
  },
  {
   "cell_type": "code",
   "execution_count": 6,
   "metadata": {},
   "outputs": [],
   "source": [
    "def remove_features(x, idx):\n",
    "    if idx == 0:\n",
    "        print(\"You can't remove the bias from Phi\")\n",
    "        return None\n",
    "    \n",
    "    phi_without_idx = []\n",
    "    for phi in x:\n",
    "        phi_without_idx.append(np.delete(phi, idx))\n",
    "    \n",
    "    return phi_without_idx\n",
    "        "
   ]
  },
  {
   "cell_type": "code",
   "execution_count": 7,
   "metadata": {},
   "outputs": [
    {
     "data": {
      "text/html": [
       "<div>\n",
       "<style scoped>\n",
       "    .dataframe tbody tr th:only-of-type {\n",
       "        vertical-align: middle;\n",
       "    }\n",
       "\n",
       "    .dataframe tbody tr th {\n",
       "        vertical-align: top;\n",
       "    }\n",
       "\n",
       "    .dataframe thead th {\n",
       "        text-align: right;\n",
       "    }\n",
       "</style>\n",
       "<table border=\"1\" class=\"dataframe\">\n",
       "  <thead>\n",
       "    <tr style=\"text-align: right;\">\n",
       "      <th></th>\n",
       "      <th>Year</th>\n",
       "      <th>Jan</th>\n",
       "      <th>Feb</th>\n",
       "      <th>Mar</th>\n",
       "      <th>Apl</th>\n",
       "      <th>May</th>\n",
       "      <th>Jun</th>\n",
       "      <th>Jul</th>\n",
       "      <th>Aug</th>\n",
       "      <th>Sep</th>\n",
       "      <th>Oct</th>\n",
       "      <th>Nov</th>\n",
       "      <th>Dec</th>\n",
       "    </tr>\n",
       "  </thead>\n",
       "  <tbody>\n",
       "    <tr>\n",
       "      <th>0</th>\n",
       "      <td>1749</td>\n",
       "      <td>58.0</td>\n",
       "      <td>62.6</td>\n",
       "      <td>70.0</td>\n",
       "      <td>55.7</td>\n",
       "      <td>85.0</td>\n",
       "      <td>83.5</td>\n",
       "      <td>94.8</td>\n",
       "      <td>66.3</td>\n",
       "      <td>75.9</td>\n",
       "      <td>75.5</td>\n",
       "      <td>158.6</td>\n",
       "      <td>85.2</td>\n",
       "    </tr>\n",
       "    <tr>\n",
       "      <th>1</th>\n",
       "      <td>1750</td>\n",
       "      <td>73.3</td>\n",
       "      <td>75.9</td>\n",
       "      <td>89.2</td>\n",
       "      <td>88.3</td>\n",
       "      <td>90.0</td>\n",
       "      <td>100.0</td>\n",
       "      <td>85.4</td>\n",
       "      <td>103.0</td>\n",
       "      <td>91.2</td>\n",
       "      <td>65.7</td>\n",
       "      <td>63.3</td>\n",
       "      <td>75.4</td>\n",
       "    </tr>\n",
       "    <tr>\n",
       "      <th>2</th>\n",
       "      <td>1751</td>\n",
       "      <td>70.0</td>\n",
       "      <td>43.5</td>\n",
       "      <td>45.3</td>\n",
       "      <td>56.4</td>\n",
       "      <td>60.7</td>\n",
       "      <td>50.7</td>\n",
       "      <td>66.3</td>\n",
       "      <td>59.8</td>\n",
       "      <td>23.5</td>\n",
       "      <td>23.2</td>\n",
       "      <td>28.5</td>\n",
       "      <td>44.0</td>\n",
       "    </tr>\n",
       "    <tr>\n",
       "      <th>3</th>\n",
       "      <td>1752</td>\n",
       "      <td>35.0</td>\n",
       "      <td>50.0</td>\n",
       "      <td>71.0</td>\n",
       "      <td>59.3</td>\n",
       "      <td>59.7</td>\n",
       "      <td>39.6</td>\n",
       "      <td>78.4</td>\n",
       "      <td>29.3</td>\n",
       "      <td>27.1</td>\n",
       "      <td>46.6</td>\n",
       "      <td>37.6</td>\n",
       "      <td>40.0</td>\n",
       "    </tr>\n",
       "    <tr>\n",
       "      <th>4</th>\n",
       "      <td>1753</td>\n",
       "      <td>44.0</td>\n",
       "      <td>32.0</td>\n",
       "      <td>45.7</td>\n",
       "      <td>38.0</td>\n",
       "      <td>36.0</td>\n",
       "      <td>31.7</td>\n",
       "      <td>22.0</td>\n",
       "      <td>39.0</td>\n",
       "      <td>28.0</td>\n",
       "      <td>25.0</td>\n",
       "      <td>20.0</td>\n",
       "      <td>6.7</td>\n",
       "    </tr>\n",
       "  </tbody>\n",
       "</table>\n",
       "</div>"
      ],
      "text/plain": [
       "   Year   Jan   Feb   Mar   Apl   May    Jun   Jul    Aug   Sep   Oct    Nov  \\\n",
       "0  1749  58.0  62.6  70.0  55.7  85.0   83.5  94.8   66.3  75.9  75.5  158.6   \n",
       "1  1750  73.3  75.9  89.2  88.3  90.0  100.0  85.4  103.0  91.2  65.7   63.3   \n",
       "2  1751  70.0  43.5  45.3  56.4  60.7   50.7  66.3   59.8  23.5  23.2   28.5   \n",
       "3  1752  35.0  50.0  71.0  59.3  59.7   39.6  78.4   29.3  27.1  46.6   37.6   \n",
       "4  1753  44.0  32.0  45.7  38.0  36.0   31.7  22.0   39.0  28.0  25.0   20.0   \n",
       "\n",
       "    Dec  \n",
       "0  85.2  \n",
       "1  75.4  \n",
       "2  44.0  \n",
       "3  40.0  \n",
       "4   6.7  "
      ]
     },
     "execution_count": 7,
     "metadata": {},
     "output_type": "execute_result"
    }
   ],
   "source": [
    "df = pd.read_csv('../data/sunspot.txt', delimiter=r\"\\s+\", names=['Year','Jan', 'Feb', 'Mar', 'Apl', 'May', 'Jun', 'Jul', 'Aug', 'Sep', 'Oct', 'Nov', 'Dec'])\n",
    "df.head()"
   ]
  },
  {
   "cell_type": "code",
   "execution_count": 8,
   "metadata": {},
   "outputs": [],
   "source": [
    "matrix = df.values\n",
    "_df_matrix = []\n",
    "for row in matrix:\n",
    "    for i in range(1,13):\n",
    "        entry = [int(row[0]), row[i]]\n",
    "        _df_matrix.append(entry)\n",
    "\n",
    "_df_matrix = np.array(_df_matrix)\n",
    "\n",
    "_df = pd.DataFrame(_df_matrix)\n",
    "\n",
    "_df.columns = ['year', 'value']\n"
   ]
  },
  {
   "cell_type": "code",
   "execution_count": 9,
   "metadata": {},
   "outputs": [
    {
     "data": {
      "image/png": "[encoded data removed]",
      "text/plain": [
       "<Figure size 432x288 with 1 Axes>"
      ]
     },
     "metadata": {
      "needs_background": "light"
     },
     "output_type": "display_data"
    }
   ],
   "source": [
    "# Test set: 5 recent years [2010 ~ 2014]\n",
    "# 5 * 12 = 60\n",
    "# Last 60 rows\n",
    "\n",
    "years_test = _df_matrix[-60:,0]\n",
    "sunspots_values_test = _df_matrix[-60:,1]\n",
    "\n",
    "years_train = _df_matrix[:-60,0]\n",
    "sunspots_values_train = _df_matrix[:-60,1]\n",
    "\n",
    "plt.plot(years_train, sunspots_values_train)\n",
    "plt.plot(years_test, sunspots_values_test, 'g')\n",
    "plt.xlabel('year')\n",
    "plt.ylabel('sunspot value')\n",
    "plt.show()"
   ]
  },
  {
   "cell_type": "code",
   "execution_count": 10,
   "metadata": {},
   "outputs": [],
   "source": [
    "phi = generate_phi(_df.values[:-60,1], 20)\n",
    "\n",
    "y = generate_y(_df.values[:-60,1], 20)\n",
    "\n",
    "w = np.dot(np.dot(np.linalg.inv(np.dot(phi.T, phi)), phi.T), y)\n"
   ]
  },
  {
   "cell_type": "code",
   "execution_count": 11,
   "metadata": {},
   "outputs": [
    {
     "data": {
      "image/png": "[encoded data removed]",
      "text/plain": [
       "<Figure size 432x288 with 1 Axes>"
      ]
     },
     "metadata": {
      "needs_background": "light"
     },
     "output_type": "display_data"
    }
   ],
   "source": [
    "plt.plot(years_train[20:], np.dot(phi,w) )\n",
    "plt.xlabel('year')\n",
    "plt.ylabel('sunspot value')\n",
    "plt.show()"
   ]
  },
  {
   "cell_type": "code",
   "execution_count": 12,
   "metadata": {},
   "outputs": [],
   "source": [
    "last_train_subset = sunspots_values_train[-20:]"
   ]
  },
  {
   "cell_type": "code",
   "execution_count": 13,
   "metadata": {},
   "outputs": [
    {
     "data": {
      "image/png": "[encoded data removed]",
      "text/plain": [
       "<Figure size 432x288 with 1 Axes>"
      ]
     },
     "metadata": {
      "needs_background": "light"
     },
     "output_type": "display_data"
    }
   ],
   "source": [
    "predictions = predict_x_next(last_train_subset, w, 60, 20)\n",
    "\n",
    "plt.plot(years_train[20:], np.dot(phi,w) )\n",
    "plt.plot(years_test, predictions, 'r' )\n",
    "plt.xlabel('year')\n",
    "plt.ylabel('sunspot value')\n",
    "plt.show()"
   ]
  },
  {
   "cell_type": "code",
   "execution_count": 14,
   "metadata": {},
   "outputs": [
    {
     "name": "stdout",
     "output_type": "stream",
     "text": [
      "3132\n"
     ]
    },
    {
     "data": {
      "image/png": "[encoded data removed]",
      "text/plain": [
       "<Figure size 432x288 with 1 Axes>"
      ]
     },
     "metadata": {
      "needs_background": "light"
     },
     "output_type": "display_data"
    }
   ],
   "source": [
    "plt.plot(years_test, sunspots_values_test, 'g')\n",
    "plt.plot(years_test, predictions, 'r')\n",
    "#sunspots_values_test\n",
    "print(len(sunspots_values_train))"
   ]
  },
  {
   "cell_type": "code",
   "execution_count": 15,
   "metadata": {},
   "outputs": [
    {
     "data": {
      "text/plain": [
       "[<matplotlib.lines.Line2D at 0x7ffb2cd57950>]"
      ]
     },
     "execution_count": 15,
     "metadata": {},
     "output_type": "execute_result"
    },
    {
     "data": {
      "image/png": "[encoded data removed]",
      "text/plain": [
       "<Figure size 432x288 with 1 Axes>"
      ]
     },
     "metadata": {
      "needs_background": "light"
     },
     "output_type": "display_data"
    }
   ],
   "source": [
    "plt.plot(years_train[20:], np.dot(phi,w) )\n",
    "plt.plot(years_test, sunspots_values_test, 'g')\n",
    "plt.plot(years_test, predictions, 'r')"
   ]
  },
  {
   "cell_type": "code",
   "execution_count": 16,
   "metadata": {},
   "outputs": [
    {
     "data": {
      "text/plain": [
       "8.900682833206169"
      ]
     },
     "execution_count": 16,
     "metadata": {},
     "output_type": "execute_result"
    }
   ],
   "source": [
    "rmse = lambda predictions, sunspots_values_test: np.sqrt(np.sum(predictions - sunspots_values_test)**2) * 1/len(predictions)\n",
    "\n",
    "rmse(predictions, sunspots_values_test)"
   ]
  },
  {
   "cell_type": "markdown",
   "metadata": {},
   "source": [
    "## K-Fold"
   ]
  },
  {
   "cell_type": "code",
   "execution_count": 17,
   "metadata": {},
   "outputs": [],
   "source": [
    "x_fold, y_fold = k_fold(phi, y, 10)\n"
   ]
  },
  {
   "cell_type": "markdown",
   "metadata": {},
   "source": [
    "## Wrapper - Backward elimination"
   ]
  },
  {
   "cell_type": "code",
   "execution_count": 18,
   "metadata": {},
   "outputs": [],
   "source": [
    "error_hist, w_hist, min_error, error_std = compute_error_k_fold(x_fold, y_fold)\n",
    "min_error_all_features = min_error"
   ]
  },
  {
   "cell_type": "markdown",
   "metadata": {},
   "source": [
    "### Backward elimination"
   ]
  },
  {
   "cell_type": "code",
   "execution_count": 20,
   "metadata": {},
   "outputs": [
    {
     "name": "stdout",
     "output_type": "stream",
     "text": [
      "Error with all features: 0.181370640177\t\tStd: 0.63888494716\n",
      "===========================================================================\n",
      "Removing feature #1 \t Min error: 0.262651639174\tStd: 0.970938151594 \n",
      "Removing feature #2 \t Min error: 0.188792925559\tStd: 0.65992008789 \n",
      "Removing feature #3 \t Min error: 0.190457675528\tStd: 0.651414806127 \n",
      "Removing feature #4 \t Min error: 0.188280419428\tStd: 0.643277111648 \n",
      "Removing feature #5 \t Min error: 0.18393196065\tStd: 0.641657974242 \n",
      "Removing feature #6 \t Min error: 0.186772881916\tStd: 0.639487913722 \n",
      "Removing feature #7 \t Min error: 0.181404399155\tStd: 0.640195843358 \n",
      "Removing feature #8 \t Min error: 0.183539866373\tStd: 0.639187552011 \n",
      "Removing feature #9 \t Min error: 0.182104563535\tStd: 0.634080915084 \n",
      "Removing feature #10 \t Min error: 0.18163427436\tStd: 0.639707737877 \n",
      "Removing feature #11 \t Min error: 0.180905784785\tStd: 0.638536480386 \n",
      "Removing feature #12 \t Min error: 0.181291697105\tStd: 0.640758594337 \n",
      "Removing feature #13 \t Min error: 0.18193872569\tStd: 0.642410166326 \n",
      "Removing feature #14 \t Min error: 0.181254936129\tStd: 0.639104809746 \n",
      "Removing feature #15 \t Min error: 0.181218781842\tStd: 0.640307094824 \n",
      "Removing feature #16 \t Min error: 0.181418020245\tStd: 0.642720349311 \n",
      "Removing feature #17 \t Min error: 0.181140328153\tStd: 0.640412509641 \n",
      "Removing feature #18 \t Min error: 0.180501979253\tStd: 0.636928748749 \n",
      "Removing feature #19 \t Min error: 0.181565215206\tStd: 0.63888494716 \n",
      "Removing feature #20 \t Min error: 0.177688205717\tStd: 0.621963382569 \n",
      "===========================================================================\n",
      "Feature #20 was choosed.\tMin error: 0.177688205717\tStd: 0.621963382569\n",
      "===========================================================================\n",
      "Removing feature #1 \t Min error: 0.262651639174\tStd: 0.970938151594 \n",
      "Removing feature #2 \t Min error: 0.188792925559\tStd: 0.65992008789 \n",
      "Removing feature #3 \t Min error: 0.190457675528\tStd: 0.651414806127 \n",
      "Removing feature #4 \t Min error: 0.188280419428\tStd: 0.643277111648 \n",
      "Removing feature #5 \t Min error: 0.18393196065\tStd: 0.641657974242 \n",
      "Removing feature #6 \t Min error: 0.186772881916\tStd: 0.639487913722 \n",
      "Removing feature #7 \t Min error: 0.181404399155\tStd: 0.640195843358 \n",
      "Removing feature #8 \t Min error: 0.183539866373\tStd: 0.639187552011 \n",
      "Removing feature #9 \t Min error: 0.182104563535\tStd: 0.634080915084 \n",
      "Removing feature #10 \t Min error: 0.18163427436\tStd: 0.639707737877 \n",
      "Removing feature #11 \t Min error: 0.180905784785\tStd: 0.638536480386 \n",
      "Removing feature #12 \t Min error: 0.181291697105\tStd: 0.640758594337 \n",
      "Removing feature #13 \t Min error: 0.18193872569\tStd: 0.642410166326 \n",
      "Removing feature #14 \t Min error: 0.181254936129\tStd: 0.639104809746 \n",
      "Removing feature #15 \t Min error: 0.181218781842\tStd: 0.640307094824 \n",
      "Removing feature #16 \t Min error: 0.181418020245\tStd: 0.642720349311 \n",
      "Removing feature #17 \t Min error: 0.181140328153\tStd: 0.640412509641 \n",
      "Removing feature #18 \t Min error: 0.180501979253\tStd: 0.636928748749 \n",
      "Removing feature #19 \t Min error: 0.181565215206\tStd: 0.63888494716 \n",
      "===========================================================================\n",
      "Feature #18 was choosed.\tMin error: 0.180501979253\tStd: 0.636928748749\n",
      "Algorithm converged.\n",
      "===========================================================================\n"
     ]
    }
   ],
   "source": [
    "print(\"Error with all features: {}\\t\\tStd: {}\".format(min_error_all_features, error_std))\n",
    "print('==='*25)\n",
    "\n",
    "number_total_features = 21\n",
    "\n",
    "converged = False\n",
    "phi_iter = phi\n",
    "last_error = min_error_all_features\n",
    "while not converged:\n",
    "    min_error_hist = []\n",
    "    std_hist = []\n",
    "    for i in range(1,number_total_features):\n",
    "        phi_updated = remove_features(phi_iter, i)\n",
    "\n",
    "        x_fold, y_fold = k_fold(phi_updated, y, 10)\n",
    "        error_hist, w_hist, min_error, error_std = compute_error_k_fold(x_fold, y_fold)\n",
    "\n",
    "        print(\"Removing feature #{} \\t Min error: {}\\tStd: {} \".format(i, min_error, error_std))\n",
    "        min_error_hist.append(min_error)\n",
    "        std_hist.append(error_std)\n",
    "\n",
    "    \n",
    "    index_to_remove = np.argmin(min_error_hist) + 1\n",
    "    print('==='*25)\n",
    "    print('Feature #{} was choosed.\\tMin error: {}\\tStd: {}'.format(index_to_remove, min_error_hist[index_to_remove-1], std_hist[index_to_remove -1]))\n",
    "    \n",
    "    if last_error >= min_error_hist[index_to_remove - 1]:    \n",
    "        last_error = min_error_hist[index_to_remove - 1]\n",
    "        number_total_features -= 1\n",
    "        phi_updated = remove_features(phi_iter, index_to_remove)\n",
    "    \n",
    "    else:\n",
    "        converged = True\n",
    "        print ('Algorithm converged.')\n",
    "    print('==='*25)\n",
    "    \n",
    "    \n"
   ]
  }
 ],
 "metadata": {
  "kernelspec": {
   "display_name": "Python 3",
   "language": "python",
   "name": "python3"
  },
  "language_info": {
   "codemirror_mode": {
    "name": "ipython",
    "version": 2
   },
   "file_extension": ".py",
   "mimetype": "text/x-python",
   "name": "python",
   "nbconvert_exporter": "python",
   "pygments_lexer": "ipython2",
   "version": "2.7.13"
  }
 },
 "nbformat": 4,
 "nbformat_minor": 2
}
