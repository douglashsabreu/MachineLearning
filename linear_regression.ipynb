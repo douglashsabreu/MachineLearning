{
 "cells": [
  {
   "cell_type": "code",
   "execution_count": 1,
   "metadata": {},
   "outputs": [],
   "source": [
    "import numpy as np\n",
    "import pandas as pd\n",
    "import matplotlib.pyplot as plt"
   ]
  },
  {
   "cell_type": "code",
   "execution_count": 2,
   "metadata": {},
   "outputs": [],
   "source": [
    "df = pd.read_csv('kc_house_data.csv')\n",
    "df.keys()\n",
    "\n",
    "prices = df['price']\n",
    "area = df['sqft_living']\n"
   ]
  },
  {
   "cell_type": "code",
   "execution_count": 3,
   "metadata": {},
   "outputs": [
    {
     "data": {
      "text/plain": [
       "Text(0.5,0,'area')"
      ]
     },
     "execution_count": 3,
     "metadata": {},
     "output_type": "execute_result"
    },
    {
     "data": {
      "image/png": "[encoded data removed]",
      "text/plain": [
       "<Figure size 432x288 with 1 Axes>"
      ]
     },
     "metadata": {
      "needs_background": "light"
     },
     "output_type": "display_data"
    }
   ],
   "source": [
    "plt.scatter(area, prices)\n",
    "plt.ylabel('price')\n",
    "plt.xlabel('area')"
   ]
  },
  {
   "cell_type": "code",
   "execution_count": 4,
   "metadata": {},
   "outputs": [
    {
     "name": "stdout",
     "output_type": "stream",
     "text": [
      "('Rank:', 2)\n",
      "('Shape:', (21613, 2))\n"
     ]
    }
   ],
   "source": [
    "_df = df[['price','sqft_living']]\n",
    "matrix = _df.values\n",
    "\n",
    "print('Rank:',np.linalg.matrix_rank(matrix))\n",
    "print('Shape:',matrix.shape)\n",
    "\n",
    "full_rank = True if matrix.shape[1] == np.linalg.matrix_rank(matrix) else False"
   ]
  },
  {
   "cell_type": "code",
   "execution_count": 5,
   "metadata": {},
   "outputs": [],
   "source": [
    "N = matrix.shape[0]\n",
    "K = matrix.shape[1]\n",
    "\n",
    "_slice = int(N * 0.75)\n",
    "sqft_living = df['sqft_living'].values[0:_slice]\n",
    "price = df['price'].values[0:_slice]\n",
    "\n",
    "# Ŷ = w[0] + w[1] * x1"
   ]
  },
  {
   "cell_type": "code",
   "execution_count": 7,
   "metadata": {},
   "outputs": [
    {
     "data": {
      "text/plain": [
       "array([-49354.68404855,    283.73674733])"
      ]
     },
     "execution_count": 7,
     "metadata": {},
     "output_type": "execute_result"
    }
   ],
   "source": [
    "if (K + 1 < N) and full_rank: \n",
    "    _phi = [ [1, value] for value in sqft_living ]\n",
    "    _phi_sqr_inv =  np.linalg.inv( np.dot(np.transpose(_phi), _phi) )\n",
    "    w = np.dot( np.dot( _phi_sqr_inv, np.transpose(_phi) ),  price)\n",
    "\n",
    "w"
   ]
  }
 ],
 "metadata": {
  "kernelspec": {
   "display_name": "Python 2",
   "language": "python",
   "name": "python2"
  },
  "language_info": {
   "codemirror_mode": {
    "name": "ipython",
    "version": 2
   },
   "file_extension": ".py",
   "mimetype": "text/x-python",
   "name": "python",
   "nbconvert_exporter": "python",
   "pygments_lexer": "ipython2",
   "version": "2.7.13"
  }
 },
 "nbformat": 4,
 "nbformat_minor": 2
}
